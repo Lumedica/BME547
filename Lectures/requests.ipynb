{
 "cells": [
  {
   "cell_type": "markdown",
   "metadata": {},
   "source": [
    "# Make RESTful API Requests from Python\n",
    "\n",
    "To make RESTful API requests to web services from our python programs, we will be using the `requests` package. Let's make a request to the sites API for the ADPL server. This will return all sites where an ADPL sanitation system is operating as a JSON array.\n",
    "\n",
    "## GET Requests"
   ]
  },
  {
   "cell_type": "code",
   "execution_count": 2,
   "metadata": {},
   "outputs": [],
   "source": [
    "import requests\n",
    "r = requests.get(\"http://adpl.suyash.io/api/sites\")"
   ]
  },
  {
   "cell_type": "markdown",
   "metadata": {},
   "source": [
    "The `r` represents the completed request object. Let's see what we got back from our request"
   ]
  },
  {
   "cell_type": "code",
   "execution_count": 3,
   "metadata": {},
   "outputs": [
    {
     "name": "stdout",
     "output_type": "stream",
     "text": [
      "[\"Kenya-Central\",\"Kenya-North\",\"Duke\",\"Philippines-Sagay\",\"Philippines-Subayon\",\"India\"]\n",
      "<class 'str'>\n"
     ]
    }
   ],
   "source": [
    "print(r.text)\n",
    "print(type(r.text))"
   ]
  },
  {
   "cell_type": "markdown",
   "metadata": {},
   "source": [
    "Above is the raw string response we received from the ADPL server. Pretty cool, eh? The problem is that this is a string, not a list. Typically servers will send clients JSON responses back and the client will have to parse them. The `requests` library has a great built in way to do that."
   ]
  },
  {
   "cell_type": "code",
   "execution_count": 4,
   "metadata": {},
   "outputs": [
    {
     "name": "stdout",
     "output_type": "stream",
     "text": [
      "['Kenya-Central', 'Kenya-North', 'Duke', 'Philippines-Sagay', 'Philippines-Subayon', 'India']\n",
      "<class 'list'>\n"
     ]
    }
   ],
   "source": [
    "sites_list = r.json()\n",
    "print(sites_list)\n",
    "print(type(sites_list))"
   ]
  },
  {
   "cell_type": "markdown",
   "metadata": {},
   "source": [
    "Now we have `sites_list` and can use it just like we normally use lists in python!"
   ]
  },
  {
   "cell_type": "code",
   "execution_count": 5,
   "metadata": {},
   "outputs": [
    {
     "data": {
      "text/plain": [
       "'Kenya-Central'"
      ]
     },
     "execution_count": 5,
     "metadata": {},
     "output_type": "execute_result"
    }
   ],
   "source": [
    "sites_list[0]"
   ]
  },
  {
   "cell_type": "markdown",
   "metadata": {},
   "source": [
    "Let's make another request and fetch the latest temperature measurement from Kenya-Central"
   ]
  },
  {
   "cell_type": "code",
   "execution_count": 6,
   "metadata": {},
   "outputs": [
    {
     "data": {
      "text/plain": [
       "{'__v': 0,\n",
       " '_id': '5a936b515548f900018345de',\n",
       " 'coreid': '46005b000b51343334363138',\n",
       " 'loc': 'Kenya-Central',\n",
       " 'temps': {'HTR': 24.1, 'HXCI': 16.7, 'HXCO': 19.1, 'HXHI': 18.6, 'HXHO': 19},\n",
       " 'time': '2018-02-26T02:05:05.807Z',\n",
       " 'valveStatus': True}"
      ]
     },
     "execution_count": 6,
     "metadata": {},
     "output_type": "execute_result"
    }
   ],
   "source": [
    "r2 = requests.get(\"http://adpl.suyash.io/api/list/Kenya-Central/1\") # Gets the last 1 day of temps from Kenya-Central\n",
    "kenya_temps = r2.json()\n",
    "kenya_temps[0]"
   ]
  },
  {
   "cell_type": "markdown",
   "metadata": {},
   "source": [
    "## POST Requests\n",
    "POST requests are a type of request typically used to send or \"POST\" data to a server for processing or storage (all POST requests also receive a response)."
   ]
  },
  {
   "cell_type": "code",
   "execution_count": 18,
   "metadata": {},
   "outputs": [
    {
     "name": "stdout",
     "output_type": "stream",
     "text": [
      "{'result': 3}\n",
      "The response was 3.\n"
     ]
    }
   ],
   "source": [
    "r2 = requests.post(\"http://bme590.suyash.io/sum\", json={\"a\": 1, \"b\": 2})\n",
    "sum_result = r2.json()\n",
    "print(sum_result)\n",
    "print(\"The response was {0}.\".format(sum_result['result']))"
   ]
  },
  {
   "cell_type": "markdown",
   "metadata": {},
   "source": [
    "We've successfully computed this sum on a cloud machine"
   ]
  }
 ],
 "metadata": {
  "kernelspec": {
   "display_name": "Python 3",
   "language": "python",
   "name": "python3"
  },
  "language_info": {
   "codemirror_mode": {
    "name": "ipython",
    "version": 3
   },
   "file_extension": ".py",
   "mimetype": "text/x-python",
   "name": "python",
   "nbconvert_exporter": "python",
   "pygments_lexer": "ipython3",
   "version": "3.6.4"
  }
 },
 "nbformat": 4,
 "nbformat_minor": 2
}
