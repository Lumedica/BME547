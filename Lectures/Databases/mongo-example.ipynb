{
 "cells": [
  {
   "cell_type": "markdown",
   "metadata": {},
   "source": [
    "# MongoDB from Python\n",
    "This notebook introduces how we can talk to a running instance of `MongoDB` from a python program. Any python program can fetch data from or put data into `MongoDB`--it could be a standalone program like this, an `iPython` shell, or your `Flask` server.\n",
    "\n",
    "First, we must connect to a running instance of `MongoDB`. Remember that `MongoDB` is just a program that stores and allows effecient querying of data. It can be running anywhere--on your machine (`localhost`), or perhaps a machine in the cloud (`vcm-0000.vm.duke.edu`). We connect to it as follows:"
   ]
  },
  {
   "cell_type": "code",
   "execution_count": 1,
   "metadata": {},
   "outputs": [],
   "source": [
    "from pymodm import connect"
   ]
  },
  {
   "cell_type": "code",
   "execution_count": 2,
   "metadata": {},
   "outputs": [],
   "source": [
    "connect(\"mongodb://localhost:27017/example\") # Connect to a mongodb database running 192.168.0.10:27017"
   ]
  },
  {
   "cell_type": "markdown",
   "metadata": {},
   "source": [
    "The `/example` portion of the connection URI above specifies which MongoDB database or \"folder\" we want to talk to. Each `MongoDB` instance can have multiple \"databases\" that are independant of each other. Just think of this as a namespace. If we connect to `example2` instead and it does not exist, a blank database will be created under the namespace `/example2`"
   ]
  },
  {
   "cell_type": "markdown",
   "metadata": {},
   "source": [
    "## Models (schemas)\n",
    "MongoDB is very forgiving, and does not _require_ us to specify what collections (tables) we want to store upfront, nor do we have to specify the structure of data we are going to store.\n",
    "\n",
    "**However**, it is very useful and important to specify some of this structure in advance, so that it is clear in your code what your expectation of data structure is going to be. For example, if we want to store a `User` in the databse, we want it to be very clear in the code what fields a User is going to have and what types each of those fields will be. This allows for validation when storing and retreiving `User`s. \n",
    "\n",
    "An example of a \"model\" or schema definition for our MongoDB interface library (`pymodm`) is below."
   ]
  },
  {
   "cell_type": "code",
   "execution_count": 3,
   "metadata": {},
   "outputs": [],
   "source": [
    "from pymodm import MongoModel, fields\n",
    "class User(MongoModel):\n",
    "    email = fields.EmailField(primary_key=True)\n",
    "    first_name = fields.CharField()\n",
    "    last_name = fields.CharField()\n",
    "    age = fields.IntegerField()"
   ]
  },
  {
   "cell_type": "markdown",
   "metadata": {},
   "source": [
    "As you can see, this `User` is just a normal old python class. Since it inherits from `MongoModel` a \"super class\" it gets many featres for free, including a free initialization method that is based on the fields (like `email`) we specified.\n",
    "\n",
    "We can use and interact with `User` like a normal python class, see below:"
   ]
  },
  {
   "cell_type": "code",
   "execution_count": 4,
   "metadata": {},
   "outputs": [
    {
     "name": "stdout",
     "output_type": "stream",
     "text": [
      "<User object>\n"
     ]
    }
   ],
   "source": [
    "u = User(email=\"awaxye@yahoo.com\", first_name=\"Adam\", last_name=\"Wax\", age=\"30\")\n",
    "print(u)"
   ]
  },
  {
   "cell_type": "code",
   "execution_count": 5,
   "metadata": {},
   "outputs": [
    {
     "name": "stdout",
     "output_type": "stream",
     "text": [
      "awaxye@yahoo.com\n"
     ]
    }
   ],
   "source": [
    "print(u.email)"
   ]
  },
  {
   "cell_type": "code",
   "execution_count": 6,
   "metadata": {},
   "outputs": [
    {
     "name": "stdout",
     "output_type": "stream",
     "text": [
      "Adam\n"
     ]
    }
   ],
   "source": [
    "print(u.first_name)"
   ]
  },
  {
   "cell_type": "markdown",
   "metadata": {},
   "source": [
    "## Save a User\n",
    "However, this `User` class has some special abilities. For example, if we want to save this `User` `u` to the MongoDB database we connected to we can simply call:"
   ]
  },
  {
   "cell_type": "code",
   "execution_count": 7,
   "metadata": {},
   "outputs": [
    {
     "data": {
      "text/plain": [
       "User(last_name='Wax', first_name='Adam', email='awaxye@yahoo.com', age=30)"
      ]
     },
     "execution_count": 7,
     "metadata": {},
     "output_type": "execute_result"
    }
   ],
   "source": [
    "u.save()"
   ]
  },
  {
   "cell_type": "markdown",
   "metadata": {},
   "source": [
    "The user is now stored in the MongoDB database!"
   ]
  },
  {
   "cell_type": "markdown",
   "metadata": {},
   "source": [
    "### Add more Users!\n",
    "Let's add some more Users to this database:"
   ]
  },
  {
   "cell_type": "code",
   "execution_count": 8,
   "metadata": {},
   "outputs": [
    {
     "data": {
      "text/plain": [
       "User(last_name='Wax', first_name='David', email='dward@test.com', age=40)"
      ]
     },
     "execution_count": 8,
     "metadata": {},
     "output_type": "execute_result"
    }
   ],
   "source": [
    "u2 = User(email=\"tejank@test.com\", first_name=\"Tejank\", last_name=\"Shah\", age=\"25\")\n",
    "u2.save()\n",
    "u3 = User(email=\"dward@test.com\", first_name=\"David\", last_name=\"Ward\", age=\"40\")\n",
    "u3.save()"
   ]
  },
  {
   "cell_type": "markdown",
   "metadata": {},
   "source": [
    "## Query Users\n",
    "We can now search for **all** Users in our database as follows."
   ]
  },
  {
   "cell_type": "code",
   "execution_count": 9,
   "metadata": {},
   "outputs": [
    {
     "name": "stdout",
     "output_type": "stream",
     "text": [
      "awaxye@yahoo.com\n",
      "dward@test.com\n",
      "tejank@test.com\n"
     ]
    }
   ],
   "source": [
    "for user in User.objects.raw({}):\n",
    "    print(user.email)"
   ]
  },
  {
   "cell_type": "markdown",
   "metadata": {},
   "source": [
    "As you can see, the `user` variable inside the loop is just an instance of the class `User` we created earlier! We can work with the `user` variable just like we are used to working with classes. We can even modify `user` and then call `user.save()` if we wanted to update the user.\n",
    "\n",
    "We can also choose to **filter** the `User`s we want to query with conditions like this:"
   ]
  },
  {
   "cell_type": "code",
   "execution_count": 10,
   "metadata": {},
   "outputs": [
    {
     "name": "stdout",
     "output_type": "stream",
     "text": [
      "mark@test.com\n",
      "bob@test.com\n"
     ]
    }
   ],
   "source": [
    "for user in User.objects.raw({\"age\": 30}):\n",
    "    print(user.email)"
   ]
  },
  {
   "cell_type": "markdown",
   "metadata": {},
   "source": [
    "As you can see, only `Adam` has an \"age\" equal to 30, so only that User is fetched to iterate over.\n",
    "\n",
    "If we expect that a certain query should only return one result, or we just want the first User of a query we can do the following:"
   ]
  },
  {
   "cell_type": "code",
   "execution_count": 11,
   "metadata": {},
   "outputs": [
    {
     "data": {
      "text/plain": [
       "'Tejank'"
      ]
     },
     "execution_count": 11,
     "metadata": {},
     "output_type": "execute_result"
    }
   ],
   "source": [
    "tejank_user = User.objects.raw({\"first_name\": \"Tejank\"}).first()\n",
    "tejank_user.first_name"
   ]
  },
  {
   "cell_type": "markdown",
   "metadata": {},
   "source": [
    "### Query and Update Users\n",
    "As mentioned earlier, you can actually fetch a user from the database, update it in python, and call `save()` to update that user in the database. For example if we wanted to update Bob's age:\n"
   ]
  },
  {
   "cell_type": "code",
   "execution_count": 12,
   "metadata": {},
   "outputs": [
    {
     "data": {
      "text/plain": [
       "User(last_name='Ward', first_name='David', email='dward@test.com', age=9000)"
      ]
     },
     "execution_count": 12,
     "metadata": {},
     "output_type": "execute_result"
    }
   ],
   "source": [
    "david_user = User.objects.raw({\"first_name\": \"David\"}).first()\n",
    "david_user.age = 40\n",
    "david_user.save()"
   ]
  },
  {
   "cell_type": "markdown",
   "metadata": {},
   "source": [
    "### Query by primary key\n",
    "\n",
    "One thing you will notice is that we cannot query users using the email field. This is because we set `email` to be the `primary_key` when we defined our `User` model/schema. When you are looking for a single user, usually you should try to query by whatever the primary_key is."
   ]
  },
  {
   "cell_type": "code",
   "execution_count": 13,
   "metadata": {},
   "outputs": [
    {
     "ename": "DoesNotExist",
     "evalue": "",
     "output_type": "error",
     "traceback": [
      "\u001b[1;31m---------------------------------------------------------------------------\u001b[0m",
      "\u001b[1;31mStopIteration\u001b[0m                             Traceback (most recent call last)",
      "\u001b[1;32mc:\\users\\adam\\appdata\\local\\programs\\python\\python37-32\\lib\\site-packages\\pymodm\\queryset.py\u001b[0m in \u001b[0;36mfirst\u001b[1;34m(self)\u001b[0m\n\u001b[0;32m    126\u001b[0m         \u001b[1;32mtry\u001b[0m\u001b[1;33m:\u001b[0m\u001b[1;33m\u001b[0m\u001b[1;33m\u001b[0m\u001b[0m\n\u001b[1;32m--> 127\u001b[1;33m             \u001b[1;32mreturn\u001b[0m \u001b[0mnext\u001b[0m\u001b[1;33m(\u001b[0m\u001b[0miter\u001b[0m\u001b[1;33m(\u001b[0m\u001b[0mself\u001b[0m\u001b[1;33m.\u001b[0m\u001b[0mlimit\u001b[0m\u001b[1;33m(\u001b[0m\u001b[1;33m-\u001b[0m\u001b[1;36m1\u001b[0m\u001b[1;33m)\u001b[0m\u001b[1;33m)\u001b[0m\u001b[1;33m)\u001b[0m\u001b[1;33m\u001b[0m\u001b[1;33m\u001b[0m\u001b[0m\n\u001b[0m\u001b[0;32m    128\u001b[0m         \u001b[1;32mexcept\u001b[0m \u001b[0mStopIteration\u001b[0m\u001b[1;33m:\u001b[0m\u001b[1;33m\u001b[0m\u001b[1;33m\u001b[0m\u001b[0m\n",
      "\u001b[1;31mStopIteration\u001b[0m: ",
      "\nDuring handling of the above exception, another exception occurred:\n",
      "\u001b[1;31mDoesNotExist\u001b[0m                              Traceback (most recent call last)",
      "\u001b[1;32m<ipython-input-13-aae4af3496d4>\u001b[0m in \u001b[0;36m<module>\u001b[1;34m\u001b[0m\n\u001b[1;32m----> 1\u001b[1;33m \u001b[0mawaxye\u001b[0m \u001b[1;33m=\u001b[0m \u001b[0mUser\u001b[0m\u001b[1;33m.\u001b[0m\u001b[0mobjects\u001b[0m\u001b[1;33m.\u001b[0m\u001b[0mraw\u001b[0m\u001b[1;33m(\u001b[0m\u001b[1;33m{\u001b[0m\u001b[1;34m\"email\"\u001b[0m\u001b[1;33m:\u001b[0m \u001b[1;34m\"awaxye@yahoo.com\"\u001b[0m\u001b[1;33m}\u001b[0m\u001b[1;33m)\u001b[0m\u001b[1;33m.\u001b[0m\u001b[0mfirst\u001b[0m\u001b[1;33m(\u001b[0m\u001b[1;33m)\u001b[0m  \u001b[1;31m# this will NOT work\u001b[0m\u001b[1;33m\u001b[0m\u001b[1;33m\u001b[0m\u001b[0m\n\u001b[0m",
      "\u001b[1;32mc:\\users\\adam\\appdata\\local\\programs\\python\\python37-32\\lib\\site-packages\\pymodm\\queryset.py\u001b[0m in \u001b[0;36mfirst\u001b[1;34m(self)\u001b[0m\n\u001b[0;32m    127\u001b[0m             \u001b[1;32mreturn\u001b[0m \u001b[0mnext\u001b[0m\u001b[1;33m(\u001b[0m\u001b[0miter\u001b[0m\u001b[1;33m(\u001b[0m\u001b[0mself\u001b[0m\u001b[1;33m.\u001b[0m\u001b[0mlimit\u001b[0m\u001b[1;33m(\u001b[0m\u001b[1;33m-\u001b[0m\u001b[1;36m1\u001b[0m\u001b[1;33m)\u001b[0m\u001b[1;33m)\u001b[0m\u001b[1;33m)\u001b[0m\u001b[1;33m\u001b[0m\u001b[1;33m\u001b[0m\u001b[0m\n\u001b[0;32m    128\u001b[0m         \u001b[1;32mexcept\u001b[0m \u001b[0mStopIteration\u001b[0m\u001b[1;33m:\u001b[0m\u001b[1;33m\u001b[0m\u001b[1;33m\u001b[0m\u001b[0m\n\u001b[1;32m--> 129\u001b[1;33m             \u001b[1;32mraise\u001b[0m \u001b[0mself\u001b[0m\u001b[1;33m.\u001b[0m\u001b[0m_model\u001b[0m\u001b[1;33m.\u001b[0m\u001b[0mDoesNotExist\u001b[0m\u001b[1;33m(\u001b[0m\u001b[1;33m)\u001b[0m\u001b[1;33m\u001b[0m\u001b[1;33m\u001b[0m\u001b[0m\n\u001b[0m\u001b[0;32m    130\u001b[0m \u001b[1;33m\u001b[0m\u001b[0m\n\u001b[0;32m    131\u001b[0m     \u001b[1;32mdef\u001b[0m \u001b[0maggregate\u001b[0m\u001b[1;33m(\u001b[0m\u001b[0mself\u001b[0m\u001b[1;33m,\u001b[0m \u001b[1;33m*\u001b[0m\u001b[0mpipeline\u001b[0m\u001b[1;33m,\u001b[0m \u001b[1;33m**\u001b[0m\u001b[0mkwargs\u001b[0m\u001b[1;33m)\u001b[0m\u001b[1;33m:\u001b[0m\u001b[1;33m\u001b[0m\u001b[1;33m\u001b[0m\u001b[0m\n",
      "\u001b[1;31mDoesNotExist\u001b[0m: "
     ]
    }
   ],
   "source": [
    "awaxye = User.objects.raw({\"email\": \"awaxye@yahoo.com\"}).first()  # this will NOT work"
   ]
  },
  {
   "cell_type": "markdown",
   "metadata": {},
   "source": [
    "Instead we must query primary key fields by the key `\"_id\"` like so:"
   ]
  },
  {
   "cell_type": "code",
   "execution_count": 14,
   "metadata": {},
   "outputs": [
    {
     "data": {
      "text/plain": [
       "'Adam'"
      ]
     },
     "execution_count": 14,
     "metadata": {},
     "output_type": "execute_result"
    }
   ],
   "source": [
    "awaxye = User.objects.raw({\"_id\": \"awaxye@yahoo.com\"}).first()\n",
    "awaxye.first_name"
   ]
  },
  {
   "cell_type": "code",
   "execution_count": null,
   "metadata": {},
   "outputs": [],
   "source": []
  },
  {
   "cell_type": "code",
   "execution_count": null,
   "metadata": {},
   "outputs": [],
   "source": []
  }
 ],
 "metadata": {
  "kernelspec": {
   "display_name": "Python 3",
   "language": "python",
   "name": "python3"
  },
  "language_info": {
   "codemirror_mode": {
    "name": "ipython",
    "version": 3
   },
   "file_extension": ".py",
   "mimetype": "text/x-python",
   "name": "python",
   "nbconvert_exporter": "python",
   "pygments_lexer": "ipython3",
   "version": "3.7.2"
  }
 },
 "nbformat": 4,
 "nbformat_minor": 2
}
